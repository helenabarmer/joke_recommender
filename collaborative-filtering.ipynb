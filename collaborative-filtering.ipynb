{
 "cells": [
  {
   "cell_type": "code",
   "execution_count": 198,
   "metadata": {},
   "outputs": [],
   "source": [
    "import pandas as pd\n",
    "import numpy as np\n",
    "import ipywidgets as widgets\n",
    "from IPython.display import display, clear_output"
   ]
  },
  {
   "cell_type": "code",
   "execution_count": 295,
   "metadata": {},
   "outputs": [],
   "source": [
    "# Get data\n",
    "data_jokes = 'jokes.csv'\n",
    "data = 'train.csv'\n",
    "\n",
    "# Initialize dataframes\n",
    "df = pd.read_csv(data)\n",
    "df_jokes = pd.read_csv(data_jokes)\n",
    "\n",
    "#df.head()"
   ]
  },
  {
   "cell_type": "code",
   "execution_count": 296,
   "metadata": {},
   "outputs": [],
   "source": [
    "#df_jokes.head()"
   ]
  },
  {
   "cell_type": "code",
   "execution_count": 201,
   "metadata": {},
   "outputs": [
    {
     "data": {
      "text/plain": [
       "(1092059, 4)"
      ]
     },
     "execution_count": 201,
     "metadata": {},
     "output_type": "execute_result"
    }
   ],
   "source": [
    "df.shape"
   ]
  },
  {
   "cell_type": "code",
   "execution_count": 297,
   "metadata": {},
   "outputs": [],
   "source": [
    "# Merge dataframes on joke id\n",
    "df = pd.merge(df, df_jokes, left_on='joke_id', right_on='joke_id', how='left').drop('id', axis=1)\n",
    "#df.head()"
   ]
  },
  {
   "cell_type": "code",
   "execution_count": 298,
   "metadata": {},
   "outputs": [],
   "source": [
    "# Helper function to display joke text\n",
    "def joke_text(joke_id):\n",
    "    joke_text = df.at[joke_id, 'joke_text']\n",
    "    return joke_text"
   ]
  },
  {
   "cell_type": "code",
   "execution_count": 299,
   "metadata": {},
   "outputs": [],
   "source": [
    "#joke_text(1)"
   ]
  },
  {
   "cell_type": "code",
   "execution_count": 286,
   "metadata": {},
   "outputs": [],
   "source": [
    "# If we want to narrow the ratings we can use this cell\n",
    "\n",
    "# Users per joke\n",
    "#users_per_joke = df.joke_id.value_counts()\n",
    "#users_per_joke.shape\n",
    "\n",
    "# Jokes per users\n",
    "#jokes_per_user = df.user_id.value_counts()\n",
    "#jokes_per_user.shape\n",
    "\n",
    "# Picking jokes that has been rated by more than 10 users\n",
    "#df = df[df['joke_id'].isin(users_per_joke[users_per_joke>10].index)]\n",
    "\n",
    "# User who rated more than 10 jokes\n",
    "#df = df[df['user_id'].isin(jokes_per_user[jokes_per_user>10].index)]"
   ]
  },
  {
   "cell_type": "code",
   "execution_count": 300,
   "metadata": {},
   "outputs": [],
   "source": [
    "# Create ratings matrix\n",
    "rating_matrix_pivot = pd.pivot_table(df, values='Rating', index=['user_id'], columns=['joke_id']).fillna(0)\n",
    "\n",
    "#rating_matrix_pivot.tail()"
   ]
  },
  {
   "cell_type": "code",
   "execution_count": 301,
   "metadata": {},
   "outputs": [],
   "source": [
    "# Create sparse matrix\n",
    "from scipy.sparse import csr_matrix\n",
    "# Create sparse matrix\n",
    "ratings_matrix = csr_matrix(rating_matrix_pivot.values)\n",
    "#ratings_matrix"
   ]
  },
  {
   "cell_type": "code",
   "execution_count": 303,
   "metadata": {},
   "outputs": [],
   "source": [
    "# Implement KNN with cosine metric\n",
    "from sklearn.neighbors import NearestNeighbors\n",
    "\n",
    "model = NearestNeighbors(metric='cosine', algorithm='brute')\n",
    "model = model.fit(ratings_matrix)"
   ]
  },
  {
   "cell_type": "code",
   "execution_count": 306,
   "metadata": {},
   "outputs": [],
   "source": [
    "# Helper function to recommend jokes\n",
    "\n",
    "def recommend_jokes():\n",
    "    query_index = np.random.choice(rating_matrix_pivot.shape[0])\n",
    "    distances, indices = model.kneighbors(rating_matrix_pivot.iloc[query_index,:].values.reshape(1, -1), n_neighbors = 5)\n",
    "    \n",
    "    joke_list = []\n",
    "    \n",
    "    user = ''\n",
    "    \n",
    "    for i in range(0, len(distances.flatten())):\n",
    "        if i == 0:\n",
    "            user_index = str(query_index) \n",
    "            user = user_index\n",
    "\n",
    "        else:\n",
    "            try:\n",
    "                joke_list.append(joke_text(rating_matrix_pivot.index[indices.flatten()[i]]))\n",
    "                \n",
    "            except:\n",
    "                joke_list.append(\"\")\n",
    "    \n",
    "    user = 'Recommended jokes for user ' + user\n",
    "        \n",
    "    df = pd.DataFrame(joke_list, columns = [user])\n",
    "    df.set_index(user, inplace=True)\n",
    "    \n",
    "\n",
    "    return df"
   ]
  },
  {
   "cell_type": "code",
   "execution_count": 307,
   "metadata": {},
   "outputs": [],
   "source": [
    "# Try function\n",
    "#recommend_jokes()"
   ]
  },
  {
   "cell_type": "markdown",
   "metadata": {},
   "source": [
    "# Use the button below to get recommendations for jokes\n",
    "[GitHub Repo](https://github.com/helenabarmer/joke_recommender)\n"
   ]
  },
  {
   "cell_type": "code",
   "execution_count": 310,
   "metadata": {},
   "outputs": [
    {
     "data": {
      "application/vnd.jupyter.widget-view+json": {
       "model_id": "c40bf74edcfe4cb685b46ad133d676b8",
       "version_major": 2,
       "version_minor": 0
      },
      "text/plain": [
       "Button(button_style='success', description='Generate Joke', style=ButtonStyle())"
      ]
     },
     "metadata": {},
     "output_type": "display_data"
    },
    {
     "data": {
      "application/vnd.jupyter.widget-view+json": {
       "model_id": "37888d845009481dbded36e922e28428",
       "version_major": 2,
       "version_minor": 0
      },
      "text/plain": [
       "Output(layout=Layout(border='1px solid black'))"
      ]
     },
     "metadata": {},
     "output_type": "display_data"
    }
   ],
   "source": [
    "# Create widget button\n",
    "button = widgets.Button(description=\"Generate Joke\", button_style='success')\n",
    "\n",
    "# Output\n",
    "output = widgets.Output(layout={'border': '1px solid black'})\n",
    "\n",
    "# Display button\n",
    "display(button, output)\n",
    "\n",
    "def joke(b):\n",
    "       with output:\n",
    "            clear_output(True)\n",
    "            display(recommend_jokes())\n",
    "            \n",
    "            \n",
    "button.on_click(joke)"
   ]
  },
  {
   "cell_type": "code",
   "execution_count": null,
   "metadata": {},
   "outputs": [],
   "source": []
  }
 ],
 "metadata": {
  "kernelspec": {
   "display_name": "Python 3",
   "language": "python",
   "name": "python3"
  },
  "language_info": {
   "codemirror_mode": {
    "name": "ipython",
    "version": 3
   },
   "file_extension": ".py",
   "mimetype": "text/x-python",
   "name": "python",
   "nbconvert_exporter": "python",
   "pygments_lexer": "ipython3",
   "version": "3.7.9"
  }
 },
 "nbformat": 4,
 "nbformat_minor": 4
}
